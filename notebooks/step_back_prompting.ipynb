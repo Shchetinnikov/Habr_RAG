{
 "cells": [
  {
   "cell_type": "code",
   "execution_count": null,
   "metadata": {},
   "outputs": [
    {
     "name": "stderr",
     "output_type": "stream",
     "text": [
      "WARNING: Ignoring invalid distribution ~angchain-openai (c:\\Users\\kshch\\Projects\\Habr_RAG\\.venv\\Lib\\site-packages)\n"
     ]
    }
   ],
   "source": [
    "!pip install -qU langchain-core langchain-openai\n",
    "!ollama pull llama3.1:8b\n",
    "!pip install -qU langchain-ollama"
   ]
  },
  {
   "cell_type": "code",
   "execution_count": 1,
   "metadata": {},
   "outputs": [],
   "source": [
    "from langchain_ollama import ChatOllama\n",
    "\n",
    "llm = ChatOllama(\n",
    "    model=\"llama3.1\",\n",
    "    temperature=0,\n",
    "    device=\"cuda\"\n",
    ")"
   ]
  },
  {
   "cell_type": "code",
   "execution_count": 2,
   "metadata": {},
   "outputs": [],
   "source": [
    "system = \"\"\"Вы являетесь экспертом в области мировых знаний. \n",
    "Ваша задача - выполнить step-back, перефразировать вопрос в более общий, на который проще ответить. \n",
    "\n",
    "Вот несколько примеров:\n",
    "Оригинальный вопрос: Какую должность занимал Нокс Каннингем с мая 1955 по апрель 1956 года?\n",
    "Step-back вопрос: Какие должности занимал Нок Каннингем в своей карьере?\n",
    "\n",
    "Оригинальный вопрос: Кто был супругом Анны Карины с 1968 по 1974 год?\n",
    "Step-back вопрос: Кем были супруги Анны Карины?\n",
    "\n",
    "Оригинальный вопрос:: За какую команду Тьерри Одель играл с 2007 по 2008 год?\n",
    "Step-back вопрос: За какие команды Тьерри Одель играл в своей карьере?\n",
    "\n",
    "Напишите только вопрос без каких-либо пояснений.\n",
    "\"\"\"\n",
    "\n",
    "prompt = (\n",
    "    \"\"\"\n",
    "    Оригинальный вопрос: {question}\n",
    "    Step-back вопрос: <ваш ответ>\n",
    "    \"\"\"\n",
    ")\n",
    "\n",
    "questions = [\n",
    "    \"Как Ельцин захватил власть?\",\n",
    "    \"Как происходит преобразование энергии при работе двигателя внутреннего сгорания?\",\n",
    "    \"Как хлорофилл вырабатывает кислород?\",\n",
    "    \"Какие чудеса света были уничтожены за последние 10 лет?\"\n",
    "]"
   ]
  },
  {
   "cell_type": "code",
   "execution_count": 3,
   "metadata": {},
   "outputs": [
    {
     "name": "stdout",
     "output_type": "stream",
     "text": [
      "Каким образом Ельцин занял высшие должности в СССР?\n",
      "Как происходит преобразование энергии в различных типах двигателей?\n",
      "Как происходит фотосинтез?\n",
      "За какие чудеса света проходили изменения в последнее десятилетие?\n"
     ]
    }
   ],
   "source": [
    "from langchain_core.prompts import ChatPromptTemplate\n",
    "\n",
    "\n",
    "for question in questions:\n",
    "    chat_template = ChatPromptTemplate.from_messages(\n",
    "        [\n",
    "            (\"system\", system),\n",
    "            (\"human\", prompt)\n",
    "        ]\n",
    "    )\n",
    "\n",
    "    messages = chat_template.format_messages(question=question)\n",
    "    ai_msg = llm.invoke(messages)\n",
    "    print(ai_msg.content)"
   ]
  },
  {
   "cell_type": "code",
   "execution_count": 4,
   "metadata": {},
   "outputs": [
    {
     "data": {
      "text/plain": [
       "[SystemMessage(content='Вы являетесь экспертом в области мировых знаний. \\nВаша задача - выполнить step-back, перефразировать вопрос в более общий, на который проще ответить. \\n\\nВот несколько примеров:\\nОригинальный вопрос: Какую должность занимал Нокс Каннингем с мая 1955 по апрель 1956 года?\\nStep-back вопрос: Какие должности занимал Нок Каннингем в своей карьере?\\n\\nОригинальный вопрос: Кто был супругом Анны Карины с 1968 по 1974 год?\\nStep-back вопрос: Кем были супруги Анны Карины?\\n\\nОригинальный вопрос:: За какую команду Тьерри Одель играл с 2007 по 2008 год?\\nStep-back вопрос: За какие команды Тьерри Одель играл в своей карьере?\\n\\nНапишите только вопрос без каких-либо пояснений.\\n', additional_kwargs={}, response_metadata={}),\n",
       " HumanMessage(content='\\n    Оригинальный вопрос: Какие чудеса света были уничтожены за последние 10 лет?\\n    Step-back вопрос: <ваш ответ>\\n    ', additional_kwargs={}, response_metadata={})]"
      ]
     },
     "execution_count": 4,
     "metadata": {},
     "output_type": "execute_result"
    }
   ],
   "source": [
    "messages"
   ]
  },
  {
   "cell_type": "code",
   "execution_count": null,
   "metadata": {},
   "outputs": [],
   "source": []
  }
 ],
 "metadata": {
  "kernelspec": {
   "display_name": ".venv",
   "language": "python",
   "name": "python3"
  },
  "language_info": {
   "codemirror_mode": {
    "name": "ipython",
    "version": 3
   },
   "file_extension": ".py",
   "mimetype": "text/x-python",
   "name": "python",
   "nbconvert_exporter": "python",
   "pygments_lexer": "ipython3",
   "version": "3.12.0"
  }
 },
 "nbformat": 4,
 "nbformat_minor": 2
}
