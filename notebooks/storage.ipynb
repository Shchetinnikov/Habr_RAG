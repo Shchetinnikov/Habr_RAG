{
 "cells": [
  {
   "cell_type": "code",
   "execution_count": null,
   "metadata": {},
   "outputs": [
    {
     "name": "stdout",
     "output_type": "stream",
     "text": [
      "^C\n"
     ]
    }
   ],
   "source": [
    "!bash ../storage/standalone_embed.sh start"
   ]
  },
  {
   "cell_type": "code",
   "execution_count": 3,
   "metadata": {},
   "outputs": [],
   "source": [
    "os.chdir('../storage')"
   ]
  },
  {
   "cell_type": "code",
   "execution_count": null,
   "metadata": {},
   "outputs": [],
   "source": [
    "\n",
    "\n",
    "logging.debug(\"A DEBUG Message\")\n",
    "\n",
    "logging.warning(\"A WARNING\")\n",
    "logging.error(\"An ERROR\")\n",
    "logging.critical(\"A message of CRITICAL severity\")"
   ]
  },
  {
   "cell_type": "code",
   "execution_count": 4,
   "metadata": {},
   "outputs": [
    {
     "data": {
      "text/plain": [
       "True"
      ]
     },
     "execution_count": 4,
     "metadata": {},
     "output_type": "execute_result"
    }
   ],
   "source": [
    "import os\n",
    "import functools\n",
    "from dotenv import load_dotenv\n",
    "\n",
    "from datasets import load_dataset\n",
    "from langchain_community.embeddings import HuggingFaceBgeEmbeddings\n",
    "from langchain_milvus.utils.sparse import BM25SparseEmbedding\n",
    "from langchain_milvus.retrievers import MilvusCollectionHybridSearchRetriever\n",
    "from pymilvus import (\n",
    "    MilvusClient,\n",
    "    Collection,\n",
    "    CollectionSchema,\n",
    "    DataType,\n",
    "    FieldSchema,\n",
    "    WeightedRanker,\n",
    "    connections,\n",
    ")\n",
    "\n",
    "load_dotenv()"
   ]
  },
  {
   "cell_type": "code",
   "execution_count": 14,
   "metadata": {},
   "outputs": [],
   "source": [
    "CONNECTION_URI = os.getenv(\"MILVUS_CONNECTION_URI\")\n",
    "connections.connect(uri=CONNECTION_URI)\n",
    "\n",
    "# client = MilvusClient(uri=\"http://localhost:19530\", token=\"root:Milvus\")\n",
    "# if client.has_collection(collection_name=\"habr_collection\"):\n",
    "#     client.drop_collection(collection_name=\"habr_collection\")"
   ]
  },
  {
   "cell_type": "code",
   "execution_count": 29,
   "metadata": {},
   "outputs": [],
   "source": [
    "dataset = load_dataset('IlyaGusev/habr', split=\"train\", streaming=True)\n",
    "\n",
    "some_examples = []\n",
    "for index, example in enumerate(dataset):\n",
    "    some_examples.append(example)\n",
    "    if index == 1000:\n",
    "        break"
   ]
  },
  {
   "cell_type": "code",
   "execution_count": 60,
   "metadata": {},
   "outputs": [
    {
     "name": "stdout",
     "output_type": "stream",
     "text": [
      "\n",
      "Промо-сайт игры Атлантика\n",
      "\n",
      "Всем привет. Компания Innova и, в частности, команда ее дизайнеров очень рада вновь опубликовать на Хабре результат своего труда, в который каждый день вкладывает частичку себя... получилось немного сумбурно-пафосно, зато очень близко к правде =)\n",
      "На этот раз мы продемонстрируем и расскажем про создание промо-сайта игры Атлантика. В качестве способа подачи информации воспользуемся форматом скринкаста (чуть более шести минут):\n",
      "Краткое содержание:\n",
      "   представляемся;\n",
      "   особенности игры Атлантика;\n",
      "   концепция промо-сайта;\n",
      "   версия сайта без видео;\n",
      "   сестры богини Атлантики — обитательницы сайта;\n",
      "   анонс промо-сайта игры Kartrider, который мы «скартонили».\n",
      "Из не самых удачных дублей был собран небольшой минутный ролик:\n",
      "Это первый наш опыт в создании видео-сайтов, который показал, как отрицательные, так и положительные стороны этой затеи. Все очень много весит, требует студии с хромокеем, кучу времени на актрис, сценарий и костюмы... но при этом, такой сайт действительно запоминается посетителям, благодаря чему его даже показали в обзоре про Атлантику в игровых передачах в онлайне и по MTV... ну и главное, такие сайты очень интересно делать!\n",
      "Мы с радостью ответим на вопросы, с еще большей радостью выслушаем дельные комментарии и советы. А также, просим совета: подскажите, о чем было бы интересно почитать вам из деятельности Innova? Может про процесс локализации, про используемые во время перевода и составления базы терминов инструменты? Или про тестирование игр? Сюжет про наш дата-центр и работу инженерной команды? Подскажите, а мы обязательно напишем.\n",
      "\n",
      "\n",
      "\n",
      "Автор статьи: Микаэл Гелецян (mikamikamika)\n",
      "\n",
      "Ссылка на статью: https://habr.com/ru/post/89564/\n",
      "\n",
      "\n",
      "\n",
      "Автор оригинальной статьи: None\n",
      "\n",
      "Ссылка на оригинальную статью: None\n",
      "\n",
      "\n",
      "\n",
      "Теги: дизайн онлайн игры atlantica атлантика\n",
      "\n"
     ]
    }
   ],
   "source": [
    "print(f\"\"\"\n",
    "{example['title']}\\n\n",
    "{example['text_markdown']}\\n\n",
    "\\n\n",
    "Автор статьи: {example['author']}\\n\n",
    "Ссылка на статью: {example['url']}\\n\n",
    "\\n\n",
    "Автор оригинальной статьи: {example['original_author']}\\n\n",
    "Ссылка на оригинальную статью: {example['original_url']}\\n\n",
    "\\n\n",
    "Теги: {functools.reduce(lambda a, b: a + \" \" + b, example['tags'])}\n",
    "\"\"\")"
   ]
  },
  {
   "cell_type": "code",
   "execution_count": 6,
   "metadata": {},
   "outputs": [],
   "source": [
    "texts = [\n",
    "    \"In 'The Whispering Walls' by Ava Moreno, a young journalist named Sophia uncovers a decades-old conspiracy hidden within the crumbling walls of an ancient mansion, where the whispers of the past threaten to destroy her own sanity.\",\n",
    "    \"In 'The Last Refuge' by Ethan Blackwood, a group of survivors must band together to escape a post-apocalyptic wasteland, where the last remnants of humanity cling to life in a desperate bid for survival.\",\n",
    "    \"In 'The Memory Thief' by Lila Rose, a charismatic thief with the ability to steal and manipulate memories is hired by a mysterious client to pull off a daring heist, but soon finds themselves trapped in a web of deceit and betrayal.\",\n",
    "    \"In 'The City of Echoes' by Julian Saint Clair, a brilliant detective must navigate a labyrinthine metropolis where time is currency, and the rich can live forever, but at a terrible cost to the poor.\",\n",
    "    \"In 'The Starlight Serenade' by Ruby Flynn, a shy astronomer discovers a mysterious melody emanating from a distant star, which leads her on a journey to uncover the secrets of the universe and her own heart.\",\n",
    "    \"In 'The Shadow Weaver' by Piper Redding, a young orphan discovers she has the ability to weave powerful illusions, but soon finds herself at the center of a deadly game of cat and mouse between rival factions vying for control of the mystical arts.\",\n",
    "    \"In 'The Lost Expedition' by Caspian Grey, a team of explorers ventures into the heart of the Amazon rainforest in search of a lost city, but soon finds themselves hunted by a ruthless treasure hunter and the treacherous jungle itself.\",\n",
    "    \"In 'The Clockwork Kingdom' by Augusta Wynter, a brilliant inventor discovers a hidden world of clockwork machines and ancient magic, where a rebellion is brewing against the tyrannical ruler of the land.\",\n",
    "    \"In 'The Phantom Pilgrim' by Rowan Welles, a charismatic smuggler is hired by a mysterious organization to transport a valuable artifact across a war-torn continent, but soon finds themselves pursued by deadly assassins and rival factions.\",\n",
    "    \"In 'The Dreamwalker's Journey' by Lyra Snow, a young dreamwalker discovers she has the ability to enter people's dreams, but soon finds herself trapped in a surreal world of nightmares and illusions, where the boundaries between reality and fantasy blur.\",\n",
    "]"
   ]
  },
  {
   "cell_type": "code",
   "execution_count": 7,
   "metadata": {},
   "outputs": [],
   "source": [
    "model_name = \"deepvk/USER-bge-m3\"\n",
    "model_kwargs = {\"device\": \"cuda\"}\n",
    "encode_kwargs = {\"normalize_embeddings\": True}\n",
    "hf = HuggingFaceBgeEmbeddings(\n",
    "    model_name=model_name, model_kwargs=model_kwargs, encode_kwargs=encode_kwargs\n",
    ")\n",
    "\n",
    "dense_embedding_func = hf\n",
    "sparse_embedding_func = BM25SparseEmbedding(corpus=texts)"
   ]
  },
  {
   "cell_type": "code",
   "execution_count": 261,
   "metadata": {},
   "outputs": [],
   "source": [
    "pk_field = \"doc_id\"\n",
    "dense_field = \"dense_vector\"\n",
    "sparse_field = \"sparse_vector\"\n",
    "text_field = \"text\"\n",
    "\n",
    "fields = [\n",
    "    FieldSchema(\n",
    "        name=pk_field,\n",
    "        dtype=DataType.VARCHAR,\n",
    "        is_primary=True,\n",
    "        auto_id=True,\n",
    "        max_length=100,\n",
    "    ),\n",
    "    FieldSchema(name=dense_field, dtype=DataType.FLOAT_VECTOR, dim=1024),\n",
    "    FieldSchema(name=sparse_field, dtype=DataType.SPARSE_FLOAT_VECTOR),\n",
    "    FieldSchema(name=text_field, dtype=DataType.VARCHAR, max_length=65_535),\n",
    "]"
   ]
  },
  {
   "cell_type": "code",
   "execution_count": 262,
   "metadata": {},
   "outputs": [],
   "source": [
    "schema = CollectionSchema(fields=fields, enable_dynamic_field=False)\n",
    "collection = Collection(\n",
    "    name=\"habr_collection\", schema=schema, consistency_level=\"Strong\"\n",
    ")"
   ]
  },
  {
   "cell_type": "code",
   "execution_count": 263,
   "metadata": {},
   "outputs": [],
   "source": [
    "dense_index = {\"index_type\": \"DISKANN\", \"metric_type\": \"IP\"}\n",
    "sparse_index = {\"index_type\": \"SPARSE_INVERTED_INDEX\", \"metric_type\": \"IP\"}\n",
    "\n",
    "collection.create_index(\"dense_vector\", dense_index)\n",
    "collection.create_index(\"sparse_vector\", sparse_index)\n",
    "\n",
    "collection.flush()"
   ]
  },
  {
   "cell_type": "code",
   "execution_count": 264,
   "metadata": {},
   "outputs": [],
   "source": [
    "entities = []\n",
    "for text in texts:\n",
    "    entity = {\n",
    "        dense_field: hf.embed_query(text),\n",
    "        sparse_field: sparse_embedding_func.embed_query(text),\n",
    "        text_field: text,\n",
    "    }\n",
    "    entities.append(entity)\n",
    "collection.insert(entities)\n",
    "collection.load()"
   ]
  },
  {
   "cell_type": "code",
   "execution_count": 265,
   "metadata": {},
   "outputs": [],
   "source": [
    "sparse_search_params = {\"metric_type\": \"IP\"}\n",
    "dense_search_params = {\"metric_type\": \"IP\", \"params\": {}}\n",
    "\n",
    "retriever = MilvusCollectionHybridSearchRetriever(\n",
    "    collection=collection,\n",
    "    rerank=WeightedRanker(0.8, 0.2),\n",
    "    anns_fields=[dense_field, sparse_field],\n",
    "    field_embeddings=[dense_embedding_func, sparse_embedding_func],\n",
    "    field_search_params=[dense_search_params, sparse_search_params],\n",
    "    top_k=5,\n",
    "    text_field=text_field,\n",
    ")"
   ]
  },
  {
   "cell_type": "code",
   "execution_count": 266,
   "metadata": {},
   "outputs": [
    {
     "data": {
      "text/plain": [
       "[Document(metadata={'doc_id': '454338873212536134'}, page_content=\"In 'The Phantom Pilgrim' by Rowan Welles, a charismatic smuggler is hired by a mysterious organization to transport a valuable artifact across a war-torn continent, but soon finds themselves pursued by deadly assassins and rival factions.\"),\n",
       " Document(metadata={'doc_id': '454338873212536145'}, page_content=\"In 'The Phantom Pilgrim' by Rowan Welles, a charismatic smuggler is hired by a mysterious organization to transport a valuable artifact across a war-torn continent, but soon finds themselves pursued by deadly assassins and rival factions.\"),\n",
       " Document(metadata={'doc_id': '454338873212536131'}, page_content=\"In 'The Shadow Weaver' by Piper Redding, a young orphan discovers she has the ability to weave powerful illusions, but soon finds herself at the center of a deadly game of cat and mouse between rival factions vying for control of the mystical arts.\"),\n",
       " Document(metadata={'doc_id': '454338873212536142'}, page_content=\"In 'The Shadow Weaver' by Piper Redding, a young orphan discovers she has the ability to weave powerful illusions, but soon finds herself at the center of a deadly game of cat and mouse between rival factions vying for control of the mystical arts.\"),\n",
       " Document(metadata={'doc_id': '454338873212536133'}, page_content=\"In 'The Clockwork Kingdom' by Augusta Wynter, a brilliant inventor discovers a hidden world of clockwork machines and ancient magic, where a rebellion is brewing against the tyrannical ruler of the land.\")]"
      ]
     },
     "execution_count": 266,
     "metadata": {},
     "output_type": "execute_result"
    }
   ],
   "source": [
    "retriever.invoke(\"What are the story about ventures?\")"
   ]
  },
  {
   "cell_type": "code",
   "execution_count": null,
   "metadata": {},
   "outputs": [],
   "source": []
  },
  {
   "cell_type": "code",
   "execution_count": null,
   "metadata": {},
   "outputs": [],
   "source": []
  },
  {
   "cell_type": "code",
   "execution_count": null,
   "metadata": {},
   "outputs": [],
   "source": []
  },
  {
   "cell_type": "code",
   "execution_count": null,
   "metadata": {},
   "outputs": [],
   "source": []
  },
  {
   "cell_type": "code",
   "execution_count": null,
   "metadata": {},
   "outputs": [],
   "source": [
    "data=[{\"id\": i, \n",
    "       \"text\": docs[i], \n",
    "       \"sparse\": sparse_embedding_func.embed_query(docs[i]), \n",
    "       \"dense\": model.encode(docs[i], normalize_embeddings=True)} for i in range(len(docs))]"
   ]
  },
  {
   "cell_type": "code",
   "execution_count": 196,
   "metadata": {},
   "outputs": [
    {
     "data": {
      "text/plain": [
       "{'auto_id': False, 'description': '', 'fields': [{'name': 'id', 'description': '', 'type': <DataType.INT64: 5>, 'is_primary': True, 'auto_id': False}, {'name': 'text', 'description': '', 'type': <DataType.VARCHAR: 21>, 'params': {'max_length': 1000}}, {'name': 'sparse', 'description': '', 'type': <DataType.SPARSE_FLOAT_VECTOR: 104>}, {'name': 'dense', 'description': '', 'type': <DataType.FLOAT_VECTOR: 101>, 'params': {'dim': 1024}}], 'enable_dynamic_field': True}"
      ]
     },
     "execution_count": 196,
     "metadata": {},
     "output_type": "execute_result"
    }
   ],
   "source": [
    "from pymilvus import (\n",
    "    MilvusClient, DataType\n",
    ")\n",
    "\n",
    "# Create schema\n",
    "schema = MilvusClient.create_schema(\n",
    "    auto_id=False,\n",
    "    enable_dynamic_field=True,\n",
    ")\n",
    "# Add fields to schema\n",
    "schema.add_field(field_name=\"id\", datatype=DataType.INT64, is_primary=True)\n",
    "schema.add_field(field_name=\"text\", datatype=DataType.VARCHAR, max_length=1000)\n",
    "schema.add_field(field_name=\"sparse\", datatype=DataType.SPARSE_FLOAT_VECTOR)\n",
    "schema.add_field(field_name=\"dense\", datatype=DataType.FLOAT_VECTOR, dim=1024)"
   ]
  },
  {
   "cell_type": "code",
   "execution_count": 197,
   "metadata": {},
   "outputs": [],
   "source": [
    "index_params = client.prepare_index_params()\n",
    "\n",
    "index_params.add_index(\n",
    "    field_name=\"dense\",\n",
    "    index_name=\"dense_index\",\n",
    "    index_type=\"DISKANN\",\n",
    "    metric_type=\"IP\",\n",
    ")\n",
    "\n",
    "index_params.add_index(\n",
    "    field_name=\"sparse\",\n",
    "    index_name=\"sparse_index\",\n",
    "    index_type=\"SPARSE_INVERTED_INDEX\",  # Index type for sparse vectors\n",
    "    metric_type=\"IP\",  # Currently, only IP (Inner Product) is supported for sparse vectors\n",
    "    params={\"drop_ratio_build\": 0.2},  # The ratio of small vector values to be dropped during indexing\n",
    ")\n",
    "\n",
    "client.create_collection(\n",
    "    collection_name=\"habr_collection\",\n",
    "    schema=schema,\n",
    "    index_params=index_params\n",
    ")\n"
   ]
  },
  {
   "cell_type": "code",
   "execution_count": 198,
   "metadata": {},
   "outputs": [],
   "source": [
    "res = client.insert(\n",
    "    collection_name=\"habr_collection\",\n",
    "    data=data\n",
    ")"
   ]
  },
  {
   "cell_type": "code",
   "execution_count": 199,
   "metadata": {},
   "outputs": [],
   "source": [
    "query_dense_vector = model.encode(\"Who is Alan Turing?\", normalize_embeddings=True)\n",
    "query_sparse_vector = sparse_embedding_func.embed_query(\"Who is Alan Turing?\")"
   ]
  },
  {
   "cell_type": "code",
   "execution_count": 200,
   "metadata": {},
   "outputs": [],
   "source": [
    "from pymilvus import AnnSearchRequest\n",
    "\n",
    "search_param_1 = {\n",
    "    \"data\": [query_dense_vector],\n",
    "    \"anns_field\": \"dense\",\n",
    "    \"param\": {\n",
    "        \"metric_type\": \"IP\",\n",
    "        \"params\": {\"nprobe\": 10}\n",
    "    },\n",
    "    \"limit\": 2\n",
    "}\n",
    "request_1 = AnnSearchRequest(**search_param_1)\n",
    "\n",
    "search_param_2 = {\n",
    "    \"data\": [query_sparse_vector],\n",
    "    \"anns_field\": \"sparse\",\n",
    "    \"param\": {\n",
    "        \"metric_type\": \"IP\",\n",
    "        \"params\": {\"drop_ratio_build\": 0.2}\n",
    "    },\n",
    "    \"limit\": 2\n",
    "}\n",
    "request_2 = AnnSearchRequest(**search_param_2)\n",
    "\n",
    "reqs = [request_1, request_2]"
   ]
  },
  {
   "cell_type": "code",
   "execution_count": 201,
   "metadata": {},
   "outputs": [],
   "source": [
    "from pymilvus import WeightedRanker\n",
    "from pymilvus import RRFRanker\n",
    "\n",
    "\n",
    "rerank= WeightedRanker(0.8, 0.3)"
   ]
  },
  {
   "cell_type": "code",
   "execution_count": 217,
   "metadata": {},
   "outputs": [],
   "source": [
    "from pymilvus import MilvusClient\n",
    "\n",
    "res = client.hybrid_search(\n",
    "    collection_name=\"habr_collection\",\n",
    "    reqs=reqs,\n",
    "    ranker=rerank,\n",
    "    limit=2\n",
    ")"
   ]
  },
  {
   "cell_type": "code",
   "execution_count": 211,
   "metadata": {},
   "outputs": [],
   "source": [
    "res = client.search(\n",
    "    anns_field=\"dense\",\n",
    "    collection_name=\"habr_collection\",  # target collection\n",
    "    data=[query_dense_vector],  # query vectors\n",
    "    limit=2\n",
    ")"
   ]
  },
  {
   "cell_type": "code",
   "execution_count": null,
   "metadata": {},
   "outputs": [],
   "source": []
  }
 ],
 "metadata": {
  "kernelspec": {
   "display_name": ".venv",
   "language": "python",
   "name": "python3"
  },
  "language_info": {
   "codemirror_mode": {
    "name": "ipython",
    "version": 3
   },
   "file_extension": ".py",
   "mimetype": "text/x-python",
   "name": "python",
   "nbconvert_exporter": "python",
   "pygments_lexer": "ipython3",
   "version": "3.12.0"
  }
 },
 "nbformat": 4,
 "nbformat_minor": 2
}
